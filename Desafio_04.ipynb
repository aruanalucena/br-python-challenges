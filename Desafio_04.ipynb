{
  "nbformat": 4,
  "nbformat_minor": 0,
  "metadata": {
    "anaconda-cloud": {},
    "kernelspec": {
      "display_name": "Python 3",
      "language": "python",
      "name": "python3"
    },
    "language_info": {
      "codemirror_mode": {
        "name": "ipython",
        "version": 3
      },
      "file_extension": ".py",
      "mimetype": "text/x-python",
      "name": "python",
      "nbconvert_exporter": "python",
      "pygments_lexer": "ipython3",
      "version": "3.6.5"
    },
    "colab": {
      "name": "Desafio 4.ipynb",
      "provenance": [],
      "include_colab_link": true
    }
  },
  "cells": [
    {
      "cell_type": "markdown",
      "metadata": {
        "id": "view-in-github",
        "colab_type": "text"
      },
      "source": [
        "<a href=\"https://colab.research.google.com/github/aruanalucena/br-python-challenges/blob/master/Desafio_04.ipynb\" target=\"_parent\"><img src=\"https://colab.research.google.com/assets/colab-badge.svg\" alt=\"Open In Colab\"/></a>"
      ]
    },
    {
      "cell_type": "markdown",
      "metadata": {
        "id": "dOqcKUYZf6JW"
      },
      "source": [
        "### Desafio 4\n",
        "\n",
        "Escreva uma função que receba uma string como parâmetro e retorne outra string com as palavras em ordem inversa.\n",
        "\n",
        "Exemplo:\n",
        "\n",
        "inverte_texto(\"Python é legal\") ➞ \"legal é Python\""
      ]
    },
    {
      "cell_type": "code",
      "metadata": {
        "id": "I5TInJDaf6JW",
        "colab": {
          "base_uri": "https://localhost:8080/"
        },
        "outputId": "1dd92f86-e1f0-4725-c4a7-4600e0da03ce"
      },
      "source": [
        "frase = str(input('digite uma frase'))\r\n",
        "print(f'voce digitou a frase  \"{frase}\" \"')"
      ],
      "execution_count": 9,
      "outputs": [
        {
          "output_type": "stream",
          "text": [
            "digite uma fraseola tudo bem\n",
            "voce digitou a frase  \"ola tudo bem\" \"\n"
          ],
          "name": "stdout"
        }
      ]
    },
    {
      "cell_type": "code",
      "metadata": {
        "id": "6gq9SLl1xSV1",
        "colab": {
          "base_uri": "https://localhost:8080/"
        },
        "outputId": "ebe6100a-4529-4bbe-a822-93aceb198c0f"
      },
      "source": [
        "quebrado = frase.split()\r\n",
        "inverso = quebrado [::-1]\r\n",
        "print('Ao contrario ela será : ', end= \" \")\r\n",
        "for i in inverso:\r\n",
        "      print (i, end= \"\")"
      ],
      "execution_count": 10,
      "outputs": [
        {
          "output_type": "stream",
          "text": [
            "Ao contrario ela será :  bemtudoola"
          ],
          "name": "stdout"
        }
      ]
    },
    {
      "cell_type": "code",
      "metadata": {
        "id": "_lrhZhsJmyds"
      },
      "source": [
        "def inverte_texto(string):\r\n",
        "      return ' '.join ( string.split()[::-1])"
      ],
      "execution_count": 11,
      "outputs": []
    },
    {
      "cell_type": "code",
      "metadata": {
        "id": "96FB1fQam_o_"
      },
      "source": [
        ""
      ],
      "execution_count": null,
      "outputs": []
    }
  ]
}