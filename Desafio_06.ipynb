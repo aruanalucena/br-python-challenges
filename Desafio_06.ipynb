{
  "nbformat": 4,
  "nbformat_minor": 0,
  "metadata": {
    "anaconda-cloud": {},
    "kernelspec": {
      "display_name": "Python 3",
      "language": "python",
      "name": "python3"
    },
    "language_info": {
      "codemirror_mode": {
        "name": "ipython",
        "version": 3
      },
      "file_extension": ".py",
      "mimetype": "text/x-python",
      "name": "python",
      "nbconvert_exporter": "python",
      "pygments_lexer": "ipython3",
      "version": "3.6.5"
    },
    "colab": {
      "name": "Desafio 6.ipynb",
      "provenance": [],
      "include_colab_link": true
    }
  },
  "cells": [
    {
      "cell_type": "markdown",
      "metadata": {
        "id": "view-in-github",
        "colab_type": "text"
      },
      "source": [
        "<a href=\"https://colab.research.google.com/github/aruanalucena/br-python-challenges/blob/master/Desafio_06.ipynb\" target=\"_parent\"><img src=\"https://colab.research.google.com/assets/colab-badge.svg\" alt=\"Open In Colab\"/></a>"
      ]
    },
    {
      "cell_type": "markdown",
      "metadata": {
        "id": "AiI1_KNTf6Jh"
      },
      "source": [
        "### Desafio 6\n",
        "\n",
        "Crie uma função que receba duas listas e retorne uma lista que contenha apenas os elementos comuns entre as listas (sem repetição). A função deve suportar lista de tamanhos diferentes.\n",
        "\n",
        "listas:\n",
        "\n",
        "a = [1, 1, 2, 3, 5, 8, 13, 21, 34, 55, 89]\n",
        " \n",
        "b = [1, 2, 3, 4, 5, 6, 7, 8, 9, 10, 11, 12, 13]\n"
      ]
    },
    {
      "cell_type": "code",
      "metadata": {
        "id": "LkWvlicloOA8"
      },
      "source": [
        "a= [1,1,2,3,5,8,13,21,34,55,89]\r\n",
        "b = [1,2,3,4,5,6,7,8,9,10,11,12,13]"
      ],
      "execution_count": 13,
      "outputs": []
    },
    {
      "cell_type": "code",
      "metadata": {
        "id": "mvxpy_vCf6Jh"
      },
      "source": [
        "def  ele_com (x,y):\r\n",
        "        comum = [ ]\r\n",
        "        x = set(x)\r\n",
        "        y = set(y)\r\n",
        "        for t in x:\r\n",
        "              if t in y:\r\n",
        "                  comum.append(t)\r\n",
        "        print(comum)"
      ],
      "execution_count": 16,
      "outputs": []
    },
    {
      "cell_type": "code",
      "metadata": {
        "id": "ly-N_Aq624RQ",
        "colab": {
          "base_uri": "https://localhost:8080/"
        },
        "outputId": "a512e5f7-0eb5-4637-c885-5c205376c3cf"
      },
      "source": [
        "ele_com(a,b)"
      ],
      "execution_count": 17,
      "outputs": [
        {
          "output_type": "stream",
          "text": [
            "[1, 2, 3, 5, 8, 13]\n"
          ],
          "name": "stdout"
        }
      ]
    },
    {
      "cell_type": "code",
      "metadata": {
        "id": "YdD4qGyVoaDS"
      },
      "source": [
        ""
      ],
      "execution_count": null,
      "outputs": []
    }
  ]
}